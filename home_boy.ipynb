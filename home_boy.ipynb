{
 "cells": [
  {
   "cell_type": "code",
   "execution_count": 4,
   "metadata": {},
   "outputs": [
    {
     "name": "stderr",
     "output_type": "stream",
     "text": [
      "[nltk_data] Downloading package wordnet to\n",
      "[nltk_data]     C:\\Users\\USER\\AppData\\Roaming\\nltk_data...\n",
      "[nltk_data]   Unzipping corpora\\wordnet.zip.\n"
     ]
    },
    {
     "data": {
      "text/plain": [
       "True"
      ]
     },
     "execution_count": 4,
     "metadata": {},
     "output_type": "execute_result"
    }
   ],
   "source": [
    "#import dependencies\n",
    "import re\n",
    "import nltk\n",
    "nltk.download('wordnet')"
   ]
  },
  {
   "cell_type": "code",
   "execution_count": 5,
   "metadata": {},
   "outputs": [],
   "source": [
    "from nltk.corpus import wordnet"
   ]
  },
  {
   "cell_type": "code",
   "execution_count": 31,
   "metadata": {
    "scrolled": false
   },
   "outputs": [
    {
     "name": "stdout",
     "output_type": "stream",
     "text": [
      "{'hello': {'ba wo ni', 'howdy', 'hi', 'kilonshele', 'hello', 'hullo', 'howfar', 'how do you do', 'yaya'}, 'timings': {'time', 'timing', 'clock'}}\n"
     ]
    }
   ],
   "source": [
    "#build list of words\n",
    "\n",
    "# Building a list of Keywords\n",
    "list_words=['hello','timings']\n",
    "list_syn={}\n",
    "for word in list_words:\n",
    "    synonyms=[]\n",
    "    for syn in wordnet.synsets(word):\n",
    "        for lem in syn.lemmas():\n",
    "            \n",
    "            # Remove any special characters from synonym strings\n",
    "            lem_name = re.sub('[^a-zA-Z0-9 \\n\\.]', ' ', lem.name())\n",
    "            synonyms.append(lem_name)\n",
    "            if word == 'hello':\n",
    "                synonyms.append('howfar')\n",
    "                synonyms.append('kilonshele')\n",
    "                synonyms.append('yaya')\n",
    "                synonyms.append('ba wo ni')\n",
    "    \n",
    "    list_syn[word]=set(synonyms)\n",
    "    \n",
    "print (list_syn)"
   ]
  },
  {
   "cell_type": "code",
   "execution_count": 33,
   "metadata": {},
   "outputs": [
    {
     "name": "stdout",
     "output_type": "stream",
     "text": [
      "{'greet': re.compile('.*\\\\bba wo ni\\\\b.*|.*\\\\bhowdy\\\\b.*|.*\\\\bhi\\\\b.*|.*\\\\bkilonshele\\\\b.*|.*\\\\bhello\\\\b.*|.*\\\\bhullo\\\\b.*|.*\\\\bhowfar\\\\b.*|.*\\\\bhow do you do\\\\b.*|.*\\\\byaya\\\\b.*'), 'timings': re.compile('.*\\\\btime\\\\b.*|.*\\\\btiming\\\\b.*|.*\\\\bclock\\\\b.*')}\n"
     ]
    }
   ],
   "source": [
    "# Building dictionary of Intents & Keywords\n",
    "keywords={}\n",
    "keywords_dict={}\n",
    "\n",
    "# Defining a new key in the keywords dictionary\n",
    "keywords['greet']=[]\n",
    "\n",
    "# Populating the values in the keywords dictionary with synonyms of keywords formatted with RegEx metacharacters \n",
    "for synonym in list(list_syn['hello']):\n",
    "    keywords['greet'].append('.*\\\\b'+synonym+'\\\\b.*')\n",
    "    \n",
    "# defining a new key in the keywords dictionary\n",
    "keywords['timings'] = []\n",
    "\n",
    "# Populating the values in the keywords dictionary with synonyms of keywords formatted with RegEx metacharacters \n",
    "for synonym in list(list_syn['timings']):\n",
    "    keywords['timings'].append('.*\\\\b'+synonym+'\\\\b.*')\n",
    "    \n",
    "for intent , keys in keywords.items():\n",
    "    # Joining the values in the keywords dictionary with the OR (|) operator updating them in keywords_dict dictionary\n",
    "    keywords_dict[intent]=re.compile('|'.join(keys))\n",
    "    \n",
    "print (keywords_dict)"
   ]
  },
  {
   "cell_type": "code",
   "execution_count": 34,
   "metadata": {},
   "outputs": [],
   "source": [
    "# Building a dictionary of responses\n",
    "responses={\n",
    "    'greet':'whatsup na! wetin you need?',\n",
    "    'timings':'We dey open from 9AM to 5PM, Monday to Friday. anyother time, you dey on your own oo',\n",
    "    'fallback':'all this one na long talk, talk simple thing jarey, soro soke!! werey. no dey disguise?',\n",
    "}"
   ]
  },
  {
   "cell_type": "code",
   "execution_count": 35,
   "metadata": {},
   "outputs": [
    {
     "name": "stdout",
     "output_type": "stream",
     "text": [
      "Welcome to MyBank. How may I help you?\n",
      "morning sir\n",
      "all this one na long talk, talk simple thing jarey, soro soke!! werey. no dey disguise?\n",
      "hello\n",
      "whatsup na! wetin you need?\n",
      "time\n",
      "We dey open from 9AM to 5PM, Monday to Friday. anyother time, you dey on your own oo\n",
      "geddifok\n",
      "all this one na long talk, talk simple thing jarey, soro soke!! werey. no dey disguise?\n",
      "geddifok!\n",
      "all this one na long talk, talk simple thing jarey, soro soke!! werey. no dey disguise?\n",
      "geddifuck\n",
      "all this one na long talk, talk simple thing jarey, soro soke!! werey. no dey disguise?\n",
      "geddifuck!!\n",
      "all this one na long talk, talk simple thing jarey, soro soke!! werey. no dey disguise?\n",
      "gerrout\n",
      "geddifuck!!.\n"
     ]
    }
   ],
   "source": [
    "print (\"Welcome to MyBank. How may I help you?\")\n",
    "\n",
    "# While loop to run the chatbot indefinetely\n",
    "while (True):  \n",
    "    \n",
    "    # Takes the user input and converts all characters to lowercase\n",
    "    user_input = input().lower()\n",
    "    \n",
    "    # Defining the Chatbot's exit condition\n",
    "    if user_input == 'gerrout': \n",
    "        print (\"geddifuck!!.\")\n",
    "        break    \n",
    "    \n",
    "    matched_intent = None \n",
    "    \n",
    "    for intent,pattern in keywords_dict.items():\n",
    "        \n",
    "        # Using the regular expression search function to look for keywords in user input\n",
    "        if re.search(pattern, user_input): \n",
    "            \n",
    "            # if a keyword matches, select the corresponding intent from the keywords_dict dictionary\n",
    "            matched_intent=intent  \n",
    "    \n",
    "    # The fallback intent is selected by default\n",
    "    key='fallback' \n",
    "    if matched_intent in responses:\n",
    "        \n",
    "        # If a keyword matches, the fallback intent is replaced by the matched intent as the key for the responses dictionary\n",
    "        key = matched_intent \n",
    "    \n",
    "    # The chatbot prints the response that matches the selected intent\n",
    "    print (responses[key]) "
   ]
  },
  {
   "cell_type": "code",
   "execution_count": null,
   "metadata": {},
   "outputs": [],
   "source": []
  }
 ],
 "metadata": {
  "kernelspec": {
   "display_name": "Python 3",
   "language": "python",
   "name": "python3"
  },
  "language_info": {
   "codemirror_mode": {
    "name": "ipython",
    "version": 3
   },
   "file_extension": ".py",
   "mimetype": "text/x-python",
   "name": "python",
   "nbconvert_exporter": "python",
   "pygments_lexer": "ipython3",
   "version": "3.7.7"
  }
 },
 "nbformat": 4,
 "nbformat_minor": 4
}
